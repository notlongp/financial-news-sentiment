{
 "cells": [
  {
   "cell_type": "markdown",
   "metadata": {},
   "source": [
    "# Polarity Analysis with vaderSentiment - Financial News Sentiment"
   ]
  },
  {
   "cell_type": "markdown",
   "metadata": {},
   "source": [
    "Similar to TextBlob, vaderSentiment also returns the polarity scores of each article's headline and preview. However, vaderSentiment introduce compound score, which taken into account all 3 polarity scores generated (negativity, neutrality, positivity)."
   ]
  },
  {
   "cell_type": "markdown",
   "metadata": {},
   "source": [
    "## CNBC data"
   ]
  },
  {
   "cell_type": "code",
   "execution_count": 1,
   "metadata": {},
   "outputs": [],
   "source": [
    "# loading data\n",
    "%store -r df1"
   ]
  },
  {
   "cell_type": "code",
   "execution_count": 2,
   "metadata": {},
   "outputs": [
    {
     "name": "stdout",
     "output_type": "stream",
     "text": [
      "[0.4404, 0.0, 0.0, 0.5719, 0.0, 0.0, 0.0, -0.296, 0.0, 0.0]\n",
      "[0.128, -0.2023, 0.3612, 0.5719, -0.6597, -0.2023, 0.0516, -0.6369, -0.1779, 0.3818]\n"
     ]
    }
   ],
   "source": [
    "from vaderSentiment.vaderSentiment import SentimentIntensityAnalyzer\n",
    "analyzer = SentimentIntensityAnalyzer()\n",
    "\n",
    "hl_compounds = [] # headline compounds\n",
    "ds_compounds = [] # description/preview compounds\n",
    "\n",
    "for value in df1[\"Headlines\"].values:\n",
    "    hl_compounds.append(analyzer.polarity_scores(value)['compound'])\n",
    "for value in df1[\"Description\"].values:\n",
    "    ds_compounds.append(analyzer.polarity_scores(value)['compound'])\n",
    "    \n",
    "print(hl_compounds[0:10])\n",
    "print(ds_compounds[0:10])"
   ]
  },
  {
   "cell_type": "code",
   "execution_count": 3,
   "metadata": {},
   "outputs": [
    {
     "data": {
      "text/html": [
       "<div>\n",
       "<style scoped>\n",
       "    .dataframe tbody tr th:only-of-type {\n",
       "        vertical-align: middle;\n",
       "    }\n",
       "\n",
       "    .dataframe tbody tr th {\n",
       "        vertical-align: top;\n",
       "    }\n",
       "\n",
       "    .dataframe thead th {\n",
       "        text-align: right;\n",
       "    }\n",
       "</style>\n",
       "<table border=\"1\" class=\"dataframe\">\n",
       "  <thead>\n",
       "    <tr style=\"text-align: right;\">\n",
       "      <th></th>\n",
       "      <th>Date</th>\n",
       "      <th>Time</th>\n",
       "      <th>Headlines</th>\n",
       "      <th>Description</th>\n",
       "      <th>vs_hl_compounds</th>\n",
       "      <th>vs_ds_compounds</th>\n",
       "    </tr>\n",
       "  </thead>\n",
       "  <tbody>\n",
       "    <tr>\n",
       "      <th>0</th>\n",
       "      <td>2020-07-17</td>\n",
       "      <td>19:51:00</td>\n",
       "      <td>Jim Cramer: A better way to invest in the Covi...</td>\n",
       "      <td>\"Mad Money\" host Jim Cramer recommended buying...</td>\n",
       "      <td>0.4404</td>\n",
       "      <td>0.1280</td>\n",
       "    </tr>\n",
       "    <tr>\n",
       "      <th>1</th>\n",
       "      <td>2020-07-17</td>\n",
       "      <td>19:33:00</td>\n",
       "      <td>Cramer's lightning round: I would own Teradyne</td>\n",
       "      <td>\"Mad Money\" host Jim Cramer rings the lightnin...</td>\n",
       "      <td>0.0000</td>\n",
       "      <td>-0.2023</td>\n",
       "    </tr>\n",
       "    <tr>\n",
       "      <th>2</th>\n",
       "      <td>2020-07-17</td>\n",
       "      <td>19:25:00</td>\n",
       "      <td>Cramer's week ahead: Big week for earnings, ev...</td>\n",
       "      <td>\"We'll pay more for the earnings of the non-Co...</td>\n",
       "      <td>0.0000</td>\n",
       "      <td>0.3612</td>\n",
       "    </tr>\n",
       "    <tr>\n",
       "      <th>3</th>\n",
       "      <td>2020-07-17</td>\n",
       "      <td>16:24:00</td>\n",
       "      <td>IQ Capital CEO Keith Bliss says tech and healt...</td>\n",
       "      <td>Keith Bliss, IQ Capital CEO, joins \"Closing Be...</td>\n",
       "      <td>0.5719</td>\n",
       "      <td>0.5719</td>\n",
       "    </tr>\n",
       "    <tr>\n",
       "      <th>4</th>\n",
       "      <td>2020-07-16</td>\n",
       "      <td>19:36:00</td>\n",
       "      <td>Wall Street delivered the 'kind of pullback I'...</td>\n",
       "      <td>\"Look for the stocks of high-quality companies...</td>\n",
       "      <td>0.0000</td>\n",
       "      <td>-0.6597</td>\n",
       "    </tr>\n",
       "    <tr>\n",
       "      <th>...</th>\n",
       "      <td>...</td>\n",
       "      <td>...</td>\n",
       "      <td>...</td>\n",
       "      <td>...</td>\n",
       "      <td>...</td>\n",
       "      <td>...</td>\n",
       "    </tr>\n",
       "    <tr>\n",
       "      <th>2785</th>\n",
       "      <td>2017-12-26</td>\n",
       "      <td>10:15:00</td>\n",
       "      <td>Markets lack Christmas cheer</td>\n",
       "      <td>According to Kensho, here's how markets have f...</td>\n",
       "      <td>0.2500</td>\n",
       "      <td>0.0000</td>\n",
       "    </tr>\n",
       "    <tr>\n",
       "      <th>2786</th>\n",
       "      <td>2018-09-20</td>\n",
       "      <td>11:12:00</td>\n",
       "      <td>Cramer Remix: The biggest mistake you can make...</td>\n",
       "      <td>Jim Cramer revealed his top rule when it comes...</td>\n",
       "      <td>0.2732</td>\n",
       "      <td>0.2023</td>\n",
       "    </tr>\n",
       "    <tr>\n",
       "      <th>2787</th>\n",
       "      <td>2017-12-22</td>\n",
       "      <td>19:07:00</td>\n",
       "      <td>Cramer says owning too many stocks and too lit...</td>\n",
       "      <td>Jim Cramer broke down why owning fewer stocks ...</td>\n",
       "      <td>-0.5106</td>\n",
       "      <td>0.6862</td>\n",
       "    </tr>\n",
       "    <tr>\n",
       "      <th>2788</th>\n",
       "      <td>2017-12-22</td>\n",
       "      <td>19:07:00</td>\n",
       "      <td>Cramer: I helped investors through the 2010 fl...</td>\n",
       "      <td>Jim Cramer built on his \"nobody ever made a di...</td>\n",
       "      <td>-0.4019</td>\n",
       "      <td>-0.4404</td>\n",
       "    </tr>\n",
       "    <tr>\n",
       "      <th>2789</th>\n",
       "      <td>2017-12-22</td>\n",
       "      <td>18:52:00</td>\n",
       "      <td>Cramer: Never buy a stock all at once — you'll...</td>\n",
       "      <td>Jim Cramer doubled down on his key investing r...</td>\n",
       "      <td>0.3415</td>\n",
       "      <td>-0.2057</td>\n",
       "    </tr>\n",
       "  </tbody>\n",
       "</table>\n",
       "<p>2790 rows × 6 columns</p>\n",
       "</div>"
      ],
      "text/plain": [
       "           Date      Time                                          Headlines  \\\n",
       "0    2020-07-17  19:51:00  Jim Cramer: A better way to invest in the Covi...   \n",
       "1    2020-07-17  19:33:00     Cramer's lightning round: I would own Teradyne   \n",
       "2    2020-07-17  19:25:00  Cramer's week ahead: Big week for earnings, ev...   \n",
       "3    2020-07-17  16:24:00  IQ Capital CEO Keith Bliss says tech and healt...   \n",
       "4    2020-07-16  19:36:00  Wall Street delivered the 'kind of pullback I'...   \n",
       "...         ...       ...                                                ...   \n",
       "2785 2017-12-26  10:15:00                       Markets lack Christmas cheer   \n",
       "2786 2018-09-20  11:12:00  Cramer Remix: The biggest mistake you can make...   \n",
       "2787 2017-12-22  19:07:00  Cramer says owning too many stocks and too lit...   \n",
       "2788 2017-12-22  19:07:00  Cramer: I helped investors through the 2010 fl...   \n",
       "2789 2017-12-22  18:52:00  Cramer: Never buy a stock all at once — you'll...   \n",
       "\n",
       "                                            Description  vs_hl_compounds  \\\n",
       "0     \"Mad Money\" host Jim Cramer recommended buying...           0.4404   \n",
       "1     \"Mad Money\" host Jim Cramer rings the lightnin...           0.0000   \n",
       "2     \"We'll pay more for the earnings of the non-Co...           0.0000   \n",
       "3     Keith Bliss, IQ Capital CEO, joins \"Closing Be...           0.5719   \n",
       "4     \"Look for the stocks of high-quality companies...           0.0000   \n",
       "...                                                 ...              ...   \n",
       "2785  According to Kensho, here's how markets have f...           0.2500   \n",
       "2786  Jim Cramer revealed his top rule when it comes...           0.2732   \n",
       "2787  Jim Cramer broke down why owning fewer stocks ...          -0.5106   \n",
       "2788  Jim Cramer built on his \"nobody ever made a di...          -0.4019   \n",
       "2789  Jim Cramer doubled down on his key investing r...           0.3415   \n",
       "\n",
       "      vs_ds_compounds  \n",
       "0              0.1280  \n",
       "1             -0.2023  \n",
       "2              0.3612  \n",
       "3              0.5719  \n",
       "4             -0.6597  \n",
       "...               ...  \n",
       "2785           0.0000  \n",
       "2786           0.2023  \n",
       "2787           0.6862  \n",
       "2788          -0.4404  \n",
       "2789          -0.2057  \n",
       "\n",
       "[2790 rows x 6 columns]"
      ]
     },
     "execution_count": 3,
     "metadata": {},
     "output_type": "execute_result"
    }
   ],
   "source": [
    "df1['vs_hl_compounds'] = hl_compounds\n",
    "df1['vs_ds_compounds'] = ds_compounds\n",
    "df1"
   ]
  },
  {
   "cell_type": "code",
   "execution_count": 4,
   "metadata": {},
   "outputs": [
    {
     "data": {
      "image/png": "[encoded data removed]",
      "text/plain": [
       "<Figure size 432x288 with 1 Axes>"
      ]
     },
     "metadata": {
      "needs_background": "light"
     },
     "output_type": "display_data"
    }
   ],
   "source": [
    "import matplotlib.pyplot as plt\n",
    "plt.scatter(df1['vs_hl_compounds'].values, df1['vs_ds_compounds'].values)\n",
    "plt.show()"
   ]
  },
  {
   "cell_type": "markdown",
   "metadata": {},
   "source": [
    "Similar to analysis in TextBlob, I decided to run clustering algorithms on vaderSentiment data as well."
   ]
  },
  {
   "cell_type": "code",
   "execution_count": 5,
   "metadata": {},
   "outputs": [
    {
     "name": "stdout",
     "output_type": "stream",
     "text": [
      "Stored 'vader_df1' (DataFrame)\n"
     ]
    }
   ],
   "source": [
    "# storing data\n",
    "vader_df1 = df1\n",
    "%store vader_df1"
   ]
  },
  {
   "cell_type": "markdown",
   "metadata": {},
   "source": [
    "## Reuters data"
   ]
  },
  {
   "cell_type": "code",
   "execution_count": 6,
   "metadata": {},
   "outputs": [],
   "source": [
    "# loading data\n",
    "%store -r df2"
   ]
  },
  {
   "cell_type": "code",
   "execution_count": 7,
   "metadata": {},
   "outputs": [
    {
     "name": "stdout",
     "output_type": "stream",
     "text": [
      "[0.0, -0.4215, -0.296, -0.5719, -0.6124, -0.6486, 0.4215, 0.0, -0.5267, 0.1655]\n",
      "[0.0258, -0.836, -0.4767, 0.0, -0.2732, -0.3818, -0.2846, -0.0516, -0.4767, 0.3612]\n"
     ]
    }
   ],
   "source": [
    "analyzer = SentimentIntensityAnalyzer()\n",
    "\n",
    "hl_compounds = [] # headline compounds\n",
    "ds_compounds = [] # description/preview compounds\n",
    "\n",
    "for value in df2[\"Headlines\"].values:\n",
    "    hl_compounds.append(analyzer.polarity_scores(value)['compound'])\n",
    "for value in df2[\"Description\"].values:\n",
    "    ds_compounds.append(analyzer.polarity_scores(value)['compound'])\n",
    "    \n",
    "print(hl_compounds[0:10])\n",
    "print(ds_compounds[0:10])"
   ]
  },
  {
   "cell_type": "code",
   "execution_count": 8,
   "metadata": {},
   "outputs": [
    {
     "data": {
      "text/html": [
       "<div>\n",
       "<style scoped>\n",
       "    .dataframe tbody tr th:only-of-type {\n",
       "        vertical-align: middle;\n",
       "    }\n",
       "\n",
       "    .dataframe tbody tr th {\n",
       "        vertical-align: top;\n",
       "    }\n",
       "\n",
       "    .dataframe thead th {\n",
       "        text-align: right;\n",
       "    }\n",
       "</style>\n",
       "<table border=\"1\" class=\"dataframe\">\n",
       "  <thead>\n",
       "    <tr style=\"text-align: right;\">\n",
       "      <th></th>\n",
       "      <th>Date</th>\n",
       "      <th>Headlines</th>\n",
       "      <th>Description</th>\n",
       "      <th>vs_hl_compounds</th>\n",
       "      <th>vs_ds_compounds</th>\n",
       "    </tr>\n",
       "  </thead>\n",
       "  <tbody>\n",
       "    <tr>\n",
       "      <th>0</th>\n",
       "      <td>2020-07-18</td>\n",
       "      <td>TikTok considers London and other locations fo...</td>\n",
       "      <td>TikTok has been in discussions with the UK gov...</td>\n",
       "      <td>0.0000</td>\n",
       "      <td>0.0258</td>\n",
       "    </tr>\n",
       "    <tr>\n",
       "      <th>1</th>\n",
       "      <td>2020-07-18</td>\n",
       "      <td>Disney cuts ad spending on Facebook amid growi...</td>\n",
       "      <td>Walt Disney  has become the latest company to ...</td>\n",
       "      <td>-0.4215</td>\n",
       "      <td>-0.8360</td>\n",
       "    </tr>\n",
       "    <tr>\n",
       "      <th>2</th>\n",
       "      <td>2020-07-18</td>\n",
       "      <td>Trail of missing Wirecard executive leads to B...</td>\n",
       "      <td>Former Wirecard  chief operating officer Jan M...</td>\n",
       "      <td>-0.2960</td>\n",
       "      <td>-0.4767</td>\n",
       "    </tr>\n",
       "    <tr>\n",
       "      <th>3</th>\n",
       "      <td>2020-07-18</td>\n",
       "      <td>Twitter says attackers downloaded data from up...</td>\n",
       "      <td>Twitter Inc said on Saturday that hackers were...</td>\n",
       "      <td>-0.5719</td>\n",
       "      <td>0.0000</td>\n",
       "    </tr>\n",
       "    <tr>\n",
       "      <th>4</th>\n",
       "      <td>2020-07-17</td>\n",
       "      <td>U.S. Republicans seek liability protections as...</td>\n",
       "      <td>A battle in the U.S. Congress over a new coron...</td>\n",
       "      <td>-0.6124</td>\n",
       "      <td>-0.2732</td>\n",
       "    </tr>\n",
       "    <tr>\n",
       "      <th>...</th>\n",
       "      <td>...</td>\n",
       "      <td>...</td>\n",
       "      <td>...</td>\n",
       "      <td>...</td>\n",
       "      <td>...</td>\n",
       "    </tr>\n",
       "    <tr>\n",
       "      <th>32691</th>\n",
       "      <td>2018-03-20</td>\n",
       "      <td>Malaysia says never hired British data firm at...</td>\n",
       "      <td>The Malaysian government and the ruling party ...</td>\n",
       "      <td>0.0000</td>\n",
       "      <td>-0.3400</td>\n",
       "    </tr>\n",
       "    <tr>\n",
       "      <th>32692</th>\n",
       "      <td>2018-03-20</td>\n",
       "      <td>Prosecutors search Volkswagen headquarters in ...</td>\n",
       "      <td>German prosecutors said on Tuesday they had se...</td>\n",
       "      <td>0.0000</td>\n",
       "      <td>0.3612</td>\n",
       "    </tr>\n",
       "    <tr>\n",
       "      <th>32693</th>\n",
       "      <td>2018-03-20</td>\n",
       "      <td>McDonald's sets greenhouse gas reduction targets</td>\n",
       "      <td>McDonald's Corp on Tuesday announced an approv...</td>\n",
       "      <td>0.0000</td>\n",
       "      <td>-0.2263</td>\n",
       "    </tr>\n",
       "    <tr>\n",
       "      <th>32694</th>\n",
       "      <td>2018-03-20</td>\n",
       "      <td>Pratt &amp; Whitney to deliver spare A320neo engin...</td>\n",
       "      <td>Pratt &amp; Whitney will soon begin deliveries of ...</td>\n",
       "      <td>0.0000</td>\n",
       "      <td>-0.6808</td>\n",
       "    </tr>\n",
       "    <tr>\n",
       "      <th>32695</th>\n",
       "      <td>2018-03-20</td>\n",
       "      <td>UK will always consider ways to improve data l...</td>\n",
       "      <td>Britain will consider any suggestions to give ...</td>\n",
       "      <td>0.4404</td>\n",
       "      <td>0.4404</td>\n",
       "    </tr>\n",
       "  </tbody>\n",
       "</table>\n",
       "<p>32696 rows × 5 columns</p>\n",
       "</div>"
      ],
      "text/plain": [
       "            Date                                          Headlines  \\\n",
       "0     2020-07-18  TikTok considers London and other locations fo...   \n",
       "1     2020-07-18  Disney cuts ad spending on Facebook amid growi...   \n",
       "2     2020-07-18  Trail of missing Wirecard executive leads to B...   \n",
       "3     2020-07-18  Twitter says attackers downloaded data from up...   \n",
       "4     2020-07-17  U.S. Republicans seek liability protections as...   \n",
       "...          ...                                                ...   \n",
       "32691 2018-03-20  Malaysia says never hired British data firm at...   \n",
       "32692 2018-03-20  Prosecutors search Volkswagen headquarters in ...   \n",
       "32693 2018-03-20   McDonald's sets greenhouse gas reduction targets   \n",
       "32694 2018-03-20  Pratt & Whitney to deliver spare A320neo engin...   \n",
       "32695 2018-03-20  UK will always consider ways to improve data l...   \n",
       "\n",
       "                                             Description  vs_hl_compounds  \\\n",
       "0      TikTok has been in discussions with the UK gov...           0.0000   \n",
       "1      Walt Disney  has become the latest company to ...          -0.4215   \n",
       "2      Former Wirecard  chief operating officer Jan M...          -0.2960   \n",
       "3      Twitter Inc said on Saturday that hackers were...          -0.5719   \n",
       "4      A battle in the U.S. Congress over a new coron...          -0.6124   \n",
       "...                                                  ...              ...   \n",
       "32691  The Malaysian government and the ruling party ...           0.0000   \n",
       "32692  German prosecutors said on Tuesday they had se...           0.0000   \n",
       "32693  McDonald's Corp on Tuesday announced an approv...           0.0000   \n",
       "32694  Pratt & Whitney will soon begin deliveries of ...           0.0000   \n",
       "32695  Britain will consider any suggestions to give ...           0.4404   \n",
       "\n",
       "       vs_ds_compounds  \n",
       "0               0.0258  \n",
       "1              -0.8360  \n",
       "2              -0.4767  \n",
       "3               0.0000  \n",
       "4              -0.2732  \n",
       "...                ...  \n",
       "32691          -0.3400  \n",
       "32692           0.3612  \n",
       "32693          -0.2263  \n",
       "32694          -0.6808  \n",
       "32695           0.4404  \n",
       "\n",
       "[32696 rows x 5 columns]"
      ]
     },
     "execution_count": 8,
     "metadata": {},
     "output_type": "execute_result"
    }
   ],
   "source": [
    "df2['vs_hl_compounds'] = hl_compounds\n",
    "df2['vs_ds_compounds'] = ds_compounds\n",
    "df2"
   ]
  },
  {
   "cell_type": "code",
   "execution_count": 9,
   "metadata": {},
   "outputs": [
    {
     "data": {
      "image/png": "[encoded data removed]",
      "text/plain": [
       "<Figure size 432x288 with 1 Axes>"
      ]
     },
     "metadata": {
      "needs_background": "light"
     },
     "output_type": "display_data"
    }
   ],
   "source": [
    "plt.scatter(df2['vs_hl_compounds'].values, df2['vs_ds_compounds'].values)\n",
    "plt.show()"
   ]
  },
  {
   "cell_type": "code",
   "execution_count": 10,
   "metadata": {},
   "outputs": [
    {
     "name": "stdout",
     "output_type": "stream",
     "text": [
      "Stored 'vader_df2' (DataFrame)\n"
     ]
    }
   ],
   "source": [
    "# storing data\n",
    "vader_df2 = df2\n",
    "%store vader_df2"
   ]
  },
  {
   "cell_type": "markdown",
   "metadata": {},
   "source": [
    "## The Guardian data"
   ]
  },
  {
   "cell_type": "code",
   "execution_count": 11,
   "metadata": {},
   "outputs": [],
   "source": [
    "# loading data\n",
    "%store -r df3"
   ]
  },
  {
   "cell_type": "code",
   "execution_count": 12,
   "metadata": {},
   "outputs": [
    {
     "name": "stdout",
     "output_type": "stream",
     "text": [
      "[0.0854, -0.3182, -0.34, 0.0, -0.7845, 0.0, 0.0, -0.3818, -0.5574, 0.0]\n"
     ]
    }
   ],
   "source": [
    "analyzer = SentimentIntensityAnalyzer()\n",
    "\n",
    "# since guardian dataset does not include description/preview\n",
    "hl_compounds = [] # headline compounds\n",
    "\n",
    "for value in df3[\"Headlines\"].values:\n",
    "    hl_compounds.append(analyzer.polarity_scores(value)['compound'])\n",
    "    \n",
    "print(hl_compounds[0:10])"
   ]
  },
  {
   "cell_type": "code",
   "execution_count": 13,
   "metadata": {},
   "outputs": [
    {
     "data": {
      "text/html": [
       "<div>\n",
       "<style scoped>\n",
       "    .dataframe tbody tr th:only-of-type {\n",
       "        vertical-align: middle;\n",
       "    }\n",
       "\n",
       "    .dataframe tbody tr th {\n",
       "        vertical-align: top;\n",
       "    }\n",
       "\n",
       "    .dataframe thead th {\n",
       "        text-align: right;\n",
       "    }\n",
       "</style>\n",
       "<table border=\"1\" class=\"dataframe\">\n",
       "  <thead>\n",
       "    <tr style=\"text-align: right;\">\n",
       "      <th></th>\n",
       "      <th>Date</th>\n",
       "      <th>Headlines</th>\n",
       "      <th>vs_hl_compounds</th>\n",
       "    </tr>\n",
       "  </thead>\n",
       "  <tbody>\n",
       "    <tr>\n",
       "      <th>0</th>\n",
       "      <td>2020-07-19</td>\n",
       "      <td>Business leader  \\n\\n\\n  Vestager has tasted d...</td>\n",
       "      <td>0.0854</td>\n",
       "    </tr>\n",
       "    <tr>\n",
       "      <th>1</th>\n",
       "      <td>2020-07-19</td>\n",
       "      <td>Observer business agenda  \\n\\n\\n  Centrica: se...</td>\n",
       "      <td>-0.3182</td>\n",
       "    </tr>\n",
       "    <tr>\n",
       "      <th>2</th>\n",
       "      <td>2020-07-19</td>\n",
       "      <td>Hidden gems from the world of research  \\n\\n\\n...</td>\n",
       "      <td>-0.3400</td>\n",
       "    </tr>\n",
       "    <tr>\n",
       "      <th>3</th>\n",
       "      <td>2020-07-19</td>\n",
       "      <td>Johnson is asking Santa for a Christmas recovery</td>\n",
       "      <td>0.0000</td>\n",
       "    </tr>\n",
       "    <tr>\n",
       "      <th>4</th>\n",
       "      <td>2020-07-19</td>\n",
       "      <td>‘I now fear the worst’: four grim tales of wor...</td>\n",
       "      <td>-0.7845</td>\n",
       "    </tr>\n",
       "    <tr>\n",
       "      <th>...</th>\n",
       "      <td>...</td>\n",
       "      <td>...</td>\n",
       "      <td>...</td>\n",
       "    </tr>\n",
       "    <tr>\n",
       "      <th>17789</th>\n",
       "      <td>2017-12-17</td>\n",
       "      <td>Uber stole trade secrets, bribed foreign offic...</td>\n",
       "      <td>0.0000</td>\n",
       "    </tr>\n",
       "    <tr>\n",
       "      <th>17790</th>\n",
       "      <td>2017-12-17</td>\n",
       "      <td>Hundreds to lose jobs as Britvic shuts down No...</td>\n",
       "      <td>-0.4019</td>\n",
       "    </tr>\n",
       "    <tr>\n",
       "      <th>17791</th>\n",
       "      <td>2017-12-17</td>\n",
       "      <td>How investing in solar energy can create a bri...</td>\n",
       "      <td>0.7003</td>\n",
       "    </tr>\n",
       "    <tr>\n",
       "      <th>17792</th>\n",
       "      <td>2017-12-17</td>\n",
       "      <td>Poundland suppliers hit by insurance downgrade</td>\n",
       "      <td>0.0000</td>\n",
       "    </tr>\n",
       "    <tr>\n",
       "      <th>17793</th>\n",
       "      <td>2017-12-17</td>\n",
       "      <td>Cryptocurrencies: City watchdog to investigate...</td>\n",
       "      <td>0.0000</td>\n",
       "    </tr>\n",
       "  </tbody>\n",
       "</table>\n",
       "<p>17794 rows × 3 columns</p>\n",
       "</div>"
      ],
      "text/plain": [
       "            Date                                          Headlines  \\\n",
       "0     2020-07-19  Business leader  \\n\\n\\n  Vestager has tasted d...   \n",
       "1     2020-07-19  Observer business agenda  \\n\\n\\n  Centrica: se...   \n",
       "2     2020-07-19  Hidden gems from the world of research  \\n\\n\\n...   \n",
       "3     2020-07-19   Johnson is asking Santa for a Christmas recovery   \n",
       "4     2020-07-19  ‘I now fear the worst’: four grim tales of wor...   \n",
       "...          ...                                                ...   \n",
       "17789 2017-12-17  Uber stole trade secrets, bribed foreign offic...   \n",
       "17790 2017-12-17  Hundreds to lose jobs as Britvic shuts down No...   \n",
       "17791 2017-12-17  How investing in solar energy can create a bri...   \n",
       "17792 2017-12-17     Poundland suppliers hit by insurance downgrade   \n",
       "17793 2017-12-17  Cryptocurrencies: City watchdog to investigate...   \n",
       "\n",
       "       vs_hl_compounds  \n",
       "0               0.0854  \n",
       "1              -0.3182  \n",
       "2              -0.3400  \n",
       "3               0.0000  \n",
       "4              -0.7845  \n",
       "...                ...  \n",
       "17789           0.0000  \n",
       "17790          -0.4019  \n",
       "17791           0.7003  \n",
       "17792           0.0000  \n",
       "17793           0.0000  \n",
       "\n",
       "[17794 rows x 3 columns]"
      ]
     },
     "execution_count": 13,
     "metadata": {},
     "output_type": "execute_result"
    }
   ],
   "source": [
    "df3['vs_hl_compounds'] = hl_compounds\n",
    "df3"
   ]
  },
  {
   "cell_type": "code",
   "execution_count": 14,
   "metadata": {},
   "outputs": [
    {
     "data": {
      "image/png": "[encoded data removed]",
      "text/plain": [
       "<Figure size 432x288 with 1 Axes>"
      ]
     },
     "metadata": {
      "needs_background": "light"
     },
     "output_type": "display_data"
    }
   ],
   "source": [
    "plt.hist(df3['vs_hl_compounds'], bins = 50)\n",
    "plt.show()"
   ]
  },
  {
   "cell_type": "code",
   "execution_count": 15,
   "metadata": {},
   "outputs": [
    {
     "name": "stdout",
     "output_type": "stream",
     "text": [
      "Stored 'vader_df3' (DataFrame)\n"
     ]
    }
   ],
   "source": [
    "# storing data\n",
    "vader_df3 = df3\n",
    "%store vader_df3"
   ]
  },
  {
   "cell_type": "code",
   "execution_count": null,
   "metadata": {},
   "outputs": [],
   "source": []
  }
 ],
 "metadata": {
  "kernelspec": {
   "display_name": "Python 3",
   "language": "python",
   "name": "python3"
  },
  "language_info": {
   "codemirror_mode": {
    "name": "ipython",
    "version": 3
   },
   "file_extension": ".py",
   "mimetype": "text/x-python",
   "name": "python",
   "nbconvert_exporter": "python",
   "pygments_lexer": "ipython3",
   "version": "3.8.3"
  }
 },
 "nbformat": 4,
 "nbformat_minor": 4
}
