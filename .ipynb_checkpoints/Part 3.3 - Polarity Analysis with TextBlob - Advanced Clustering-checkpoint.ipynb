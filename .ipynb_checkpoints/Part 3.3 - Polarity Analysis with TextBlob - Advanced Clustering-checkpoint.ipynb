{
 "cells": [
  {
   "cell_type": "code",
   "execution_count": null,
   "metadata": {},
   "outputs": [],
   "source": [
    "# %store -r textblob_df1\n",
    "# X = textblob_df1.iloc[:, -2:].values"
   ]
  },
  {
   "cell_type": "code",
   "execution_count": null,
   "metadata": {},
   "outputs": [],
   "source": [
    "# from sklearn.cluster import KMeans\n",
    "# kmeans = KMeans(n_clusters = 9, init = 'k-means++', random_state = 0)\n",
    "# y_kmeans = kmeans.fit_predict(X)"
   ]
  },
  {
   "cell_type": "code",
   "execution_count": null,
   "metadata": {},
   "outputs": [],
   "source": [
    "# import matplotlib.pyplot as plt\n",
    "# plt.scatter(X[y_kmeans == 0, 0], X[y_kmeans == 0, 1], s = 20, c = 'red', label = 'C1')\n",
    "# plt.scatter(X[y_kmeans == 1, 0], X[y_kmeans == 1, 1], s = 20, c = 'blue', label = 'C2')\n",
    "# plt.scatter(X[y_kmeans == 2, 0], X[y_kmeans == 2, 1], s = 20, c = 'green', label = 'C3')\n",
    "# plt.scatter(X[y_kmeans == 3, 0], X[y_kmeans == 3, 1], s = 20, c = 'yellow', label = 'C4')\n",
    "# plt.scatter(X[y_kmeans == 4, 0], X[y_kmeans == 4, 1], s = 20, c = 'orange', label = 'C5')\n",
    "# plt.scatter(X[y_kmeans == 5, 0], X[y_kmeans == 5, 1], s = 20, c = 'cyan', label = 'C6')\n",
    "# plt.scatter(X[y_kmeans == 6, 0], X[y_kmeans == 6, 1], s = 20, c = 'magenta', label = 'C7')\n",
    "# plt.scatter(X[y_kmeans == 7, 0], X[y_kmeans == 7, 1], s = 20, c = 'black', label = 'C8')\n",
    "# plt.scatter(X[y_kmeans == 8, 0], X[y_kmeans == 8, 1], s = 20, c = 'purple', label = 'C9')"
   ]
  },
  {
   "cell_type": "code",
   "execution_count": 1,
   "metadata": {},
   "outputs": [],
   "source": [
    "# From these 9 cluster, I can pick the 3 top right corner clusters to carry positive sentiment, \n",
    "# the 3 lower left clusters to carry negative sentiment, \n",
    "# and the rest (the 3 cluster along the diagonal with a negative slope) to carry neutral sentiment."
   ]
  },
  {
   "cell_type": "code",
   "execution_count": null,
   "metadata": {},
   "outputs": [],
   "source": [
    "# hc3 = AgglomerativeClustering(n_clusters = 9, affinity = 'euclidean', linkage = 'ward')\n",
    "# y_hc3 = hc3.fit_predict(X)"
   ]
  },
  {
   "cell_type": "code",
   "execution_count": null,
   "metadata": {},
   "outputs": [],
   "source": [
    "# plt.scatter(X[y_hc3 == 0, 0], X[y_hc3 == 0, 1], s = 20, c = 'red', label = 'C1')\n",
    "# plt.scatter(X[y_hc3 == 1, 0], X[y_hc3 == 1, 1], s = 20, c = 'blue', label = 'C2')\n",
    "# plt.scatter(X[y_hc3 == 2, 0], X[y_hc3 == 2, 1], s = 20, c = 'green', label = 'C3')\n",
    "# plt.scatter(X[y_hc3 == 3, 0], X[y_hc3 == 3, 1], s = 20, c = 'yellow', label = 'C4')\n",
    "# plt.scatter(X[y_hc3 == 4, 0], X[y_hc3 == 4, 1], s = 20, c = 'orange', label = 'C5')\n",
    "# plt.scatter(X[y_hc3 == 5, 0], X[y_hc3 == 5, 1], s = 20, c = 'cyan', label = 'C6')\n",
    "# plt.scatter(X[y_hc3 == 6, 0], X[y_hc3 == 6, 1], s = 20, c = 'magenta', label = 'C7')\n",
    "# plt.scatter(X[y_hc3 == 7, 0], X[y_hc3 == 7, 1], s = 20, c = 'black', label = 'C8')\n",
    "# plt.scatter(X[y_hc3 == 8, 0], X[y_hc3 == 8, 1], s = 20, c = 'purple', label = 'C9')"
   ]
  },
  {
   "cell_type": "code",
   "execution_count": null,
   "metadata": {},
   "outputs": [],
   "source": []
  }
 ],
 "metadata": {
  "kernelspec": {
   "display_name": "Python 3",
   "language": "python",
   "name": "python3"
  },
  "language_info": {
   "codemirror_mode": {
    "name": "ipython",
    "version": 3
   },
   "file_extension": ".py",
   "mimetype": "text/x-python",
   "name": "python",
   "nbconvert_exporter": "python",
   "pygments_lexer": "ipython3",
   "version": "3.8.3"
  }
 },
 "nbformat": 4,
 "nbformat_minor": 4
}
