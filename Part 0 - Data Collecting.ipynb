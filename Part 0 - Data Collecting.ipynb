{
 "cells": [
  {
   "cell_type": "markdown",
   "metadata": {},
   "source": [
    "# Web Scraping News Headlines from Finacial News Websites Using BeautifulSoup"
   ]
  },
  {
   "cell_type": "markdown",
   "metadata": {},
   "source": [
    "Original Website: \n",
    "- https://www.cnbc.com/sp-500/\n",
    "- https://www.reuters.com/news/archive/businessnews\n",
    "- https://www.theguardian.com/business/all"
   ]
  },
  {
   "cell_type": "markdown",
   "metadata": {},
   "source": [
    "Since the news is being updated every day, the data uses in this study can be found here: https://github.com/notlongp/news-headlines-webscrape. This script is a template for future references."
   ]
  },
  {
   "cell_type": "markdown",
   "metadata": {},
   "source": [
    "## CNBC Scraping"
   ]
  },
  {
   "cell_type": "code",
   "execution_count": null,
   "metadata": {},
   "outputs": [],
   "source": [
    "import requests\n",
    "\n",
    "URL = 'https://www.cnbc.com/sp-500/'\n",
    "page = requests.get(URL)"
   ]
  },
  {
   "cell_type": "code",
   "execution_count": null,
   "metadata": {},
   "outputs": [],
   "source": [
    "from bs4 import BeautifulSoup\n",
    "\n",
    "soup = BeautifulSoup(page.content, 'html.parser')\n",
    "results = soup.find_all(\"div\", {\"class\": \"stories-lineup bigHeader\"})\n",
    "results = results[0] # since there's only one \"stories-lineup bigHeader\" class per page"
   ]
  },
  {
   "cell_type": "code",
   "execution_count": null,
   "metadata": {},
   "outputs": [],
   "source": [
    "# Example\n",
    "temp = results.find_all(\"li\")\n",
    "print(temp[0].find(\"div\", {\"class\": \"headline\"}).get_text().strip())\n",
    "print(temp[0].find(\"time\").get_text())\n",
    "print(temp[0].find(\"p\", {\"class\": \"desc\"}).get_text())"
   ]
  },
  {
   "cell_type": "code",
   "execution_count": null,
   "metadata": {},
   "outputs": [],
   "source": [
    "# Functions to avoid Commercial Containers\n",
    "def cnbc_headline_try_except(var):\n",
    "    try:\n",
    "        return var.find(\"div\", {\"class\": \"headline\"}).get_text().strip()\n",
    "    except AttributeError:\n",
    "        pass\n",
    "\n",
    "def cnbc_time_try_except(var):\n",
    "    try:\n",
    "        return var.find(\"time\").get_text()\n",
    "    except AttributeError:\n",
    "        pass\n",
    "    \n",
    "def cnbc_text_try_except(var):\n",
    "    try:\n",
    "        return var.find(\"p\", {\"class\": \"desc\"}).get_text()\n",
    "    except AttributeError:\n",
    "        pass"
   ]
  },
  {
   "cell_type": "code",
   "execution_count": null,
   "metadata": {},
   "outputs": [],
   "source": [
    "meta = []\n",
    "# A loop that runs through 140 CNBC's news pages and record all headlines, last updated date, and preview text\n",
    "for i in range(1, 141):\n",
    "    currURL = URL + \"?page=\" + str(i)\n",
    "    page = requests.get(currURL)\n",
    "    soup = BeautifulSoup(page.content, 'html.parser')\n",
    "    results = soup.find_all(\"div\", {\"class\": \"stories-lineup bigHeader\"})\n",
    "    results = results[0]\n",
    "    items = results.find_all(\"li\")\n",
    "    for item in items:\n",
    "        arr = []\n",
    "        arr.append(cnbc_headline_try_except(item))\n",
    "        arr.append(cnbc_time_try_except(item))\n",
    "        arr.append(cnbc_text_try_except(item))\n",
    "        meta.append(arr)"
   ]
  },
  {
   "cell_type": "code",
   "execution_count": null,
   "metadata": {},
   "outputs": [],
   "source": [
    "import pandas as pd\n",
    "df = pd.DataFrame.from_records(meta)\n",
    "df.columns = [\"Headlines\", \"Time\", \"Description\"]\n",
    "df"
   ]
  },
  {
   "cell_type": "code",
   "execution_count": null,
   "metadata": {},
   "outputs": [],
   "source": [
    "# Information about the data\n",
    "df.info()"
   ]
  },
  {
   "cell_type": "code",
   "execution_count": null,
   "metadata": {},
   "outputs": [],
   "source": [
    "# Exporting the data to csv\n",
    "df.to_csv(\"./data/cnbc_headlines.csv\", index = False)"
   ]
  },
  {
   "cell_type": "markdown",
   "metadata": {},
   "source": [
    "## Reuters Scraping"
   ]
  },
  {
   "cell_type": "code",
   "execution_count": null,
   "metadata": {},
   "outputs": [],
   "source": [
    "# I can apply the same method to scrape data from Reuters\n",
    "URL = 'https://www.reuters.com/news/archive/businessnews'\n",
    "page = requests.get(URL)"
   ]
  },
  {
   "cell_type": "code",
   "execution_count": null,
   "metadata": {},
   "outputs": [],
   "source": [
    "soup = BeautifulSoup(page.content, 'html.parser')\n",
    "results = soup.find_all(\"div\", {\"class\": \"column1 col col-10\"})\n",
    "results = results[0]"
   ]
  },
  {
   "cell_type": "code",
   "execution_count": null,
   "metadata": {},
   "outputs": [],
   "source": [
    "# Example\n",
    "temp = results.find_all(\"article\", {\"class\": \"story\"})\n",
    "print(temp[0].find(\"h3\").get_text().strip())\n",
    "print(temp[0].find(\"time\").get_text().strip())\n",
    "print(temp[0].find(\"p\").get_text().strip())"
   ]
  },
  {
   "cell_type": "code",
   "execution_count": null,
   "metadata": {},
   "outputs": [],
   "source": [
    "def reuters_headline_try_except(var):\n",
    "    try:\n",
    "        return var.find(\"h3\").get_text().strip()\n",
    "    except AttributeError:\n",
    "        pass\n",
    "\n",
    "def reuters_time_try_except(var):\n",
    "    try:\n",
    "        return var.find(\"time\").get_text().strip()\n",
    "    except AttributeError:\n",
    "        pass\n",
    "    \n",
    "def reuters_text_try_except(var):\n",
    "    try:\n",
    "        return var.find(\"p\").get_text().strip()\n",
    "    except AttributeError:\n",
    "        pass"
   ]
  },
  {
   "cell_type": "code",
   "execution_count": null,
   "metadata": {},
   "outputs": [],
   "source": [
    "meta = []\n",
    "# A loop that runs through 3277 CNBC's news pages (the maximum amount) of archived articles \n",
    "# and record all headlines, last updated date, and preview text\n",
    "# Reuters data only goes as far back as March 2018\n",
    "for i in range(1, 3278):\n",
    "    currURL = URL + \"?view=page&page=\" + str(i) + \"&pageSize=10\"\n",
    "    page = requests.get(currURL)\n",
    "    soup = BeautifulSoup(page.content, 'html.parser')\n",
    "    results = soup.find_all(\"div\", {\"class\": \"column1 col col-10\"})\n",
    "    results = results[0]\n",
    "    items = results.find_all(\"article\", {\"class\": \"story\"})\n",
    "    for item in items:\n",
    "        arr = []\n",
    "        arr.append(headline_try_except(item))\n",
    "        arr.append(time_try_except(item))\n",
    "        arr.append(text_try_except(item))\n",
    "        meta.append(arr)"
   ]
  },
  {
   "cell_type": "code",
   "execution_count": null,
   "metadata": {},
   "outputs": [],
   "source": [
    "df = pd.DataFrame.from_records(meta)\n",
    "df.columns = [\"Headlines\", \"Time\", \"Description\"]\n",
    "df"
   ]
  },
  {
   "cell_type": "code",
   "execution_count": null,
   "metadata": {},
   "outputs": [],
   "source": [
    "# Information about the data\n",
    "df.info()"
   ]
  },
  {
   "cell_type": "code",
   "execution_count": null,
   "metadata": {},
   "outputs": [],
   "source": [
    "# Exporting the data to csv\n",
    "df.to_csv(\"./data/reuters_headlines.csv\", index = False)"
   ]
  },
  {
   "cell_type": "markdown",
   "metadata": {},
   "source": [
    "# The Guardian Scraping"
   ]
  },
  {
   "cell_type": "code",
   "execution_count": null,
   "metadata": {},
   "outputs": [],
   "source": [
    "# Similarly to the Guardian\n",
    "# However, articles from the Guardian do not contain preview text, \n",
    "# so I can only scrape the headlines \n",
    "URL = 'https://www.theguardian.com/business/all'\n",
    "page = requests.get(URL)"
   ]
  },
  {
   "cell_type": "code",
   "execution_count": null,
   "metadata": {},
   "outputs": [],
   "source": [
    "soup = BeautifulSoup(page.content, 'html.parser')\n",
    "results = soup.find_all(\"div\", {\"class\": \"fc-container__inner\"})\n",
    "# Unlike the first 2, there are exactly 2 of these <div> every page \n",
    "# on the guardian so I will keep the indexing"
   ]
  },
  {
   "cell_type": "code",
   "execution_count": null,
   "metadata": {},
   "outputs": [],
   "source": [
    "# Example\n",
    "day1 = results[0].find_all(\"div\", {\"class\": \"fc-item__container\"})\n",
    "day2 = results[1].find_all(\"div\", {\"class\": \"fc-item__container\"})\n",
    "\n",
    "print(results[0].find(\"time\").get_text())\n",
    "print(day1[1].find(\"a\").get_text().strip())\n",
    "\n",
    "print(results[1].find(\"time\").get_text())\n",
    "print(day2[1].find(\"a\").get_text().strip())"
   ]
  },
  {
   "cell_type": "code",
   "execution_count": null,
   "metadata": {},
   "outputs": [],
   "source": [
    "meta = []\n",
    "# A loop that runs through 890 CNBC's news pages and record all headlines and last updated date\n",
    "for i in range(1, 891):\n",
    "    currURL = URL + \"?page=\" + str(i)\n",
    "    page = requests.get(currURL)\n",
    "    soup = BeautifulSoup(page.content, 'html.parser')\n",
    "    results = soup.find_all(\"div\", {\"class\": \"fc-container__inner\"})\n",
    "    \n",
    "    for result in results:\n",
    "        days = result.find_all(\"div\", {\"class\": \"fc-item__container\"})\n",
    "        for day in days:\n",
    "            arr = []\n",
    "            arr.append(results[0].find(\"time\").get_text())\n",
    "            arr.append(day.find(\"a\").get_text().strip())\n",
    "            meta.append(arr)"
   ]
  },
  {
   "cell_type": "code",
   "execution_count": null,
   "metadata": {},
   "outputs": [],
   "source": [
    "df = pd.DataFrame.from_records(meta)\n",
    "df.columns = [\"Time\", \"Headlines\"]\n",
    "df"
   ]
  },
  {
   "cell_type": "code",
   "execution_count": null,
   "metadata": {},
   "outputs": [],
   "source": [
    "# Information about the data\n",
    "df.info()"
   ]
  },
  {
   "cell_type": "code",
   "execution_count": null,
   "metadata": {},
   "outputs": [],
   "source": [
    "# Exporting the data to csv\n",
    "df.to_csv(\"./data/guardian_headlines.csv\", index = False)"
   ]
  },
  {
   "cell_type": "code",
   "execution_count": null,
   "metadata": {},
   "outputs": [],
   "source": []
  }
 ],
 "metadata": {
  "kernelspec": {
   "display_name": "Python 3",
   "language": "python",
   "name": "python3"
  },
  "language_info": {
   "codemirror_mode": {
    "name": "ipython",
    "version": 3
   },
   "file_extension": ".py",
   "mimetype": "text/x-python",
   "name": "python",
   "nbconvert_exporter": "python",
   "pygments_lexer": "ipython3",
   "version": "3.8.3"
  }
 },
 "nbformat": 4,
 "nbformat_minor": 4
}
